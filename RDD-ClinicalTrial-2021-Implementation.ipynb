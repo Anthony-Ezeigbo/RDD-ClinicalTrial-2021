{
 "cells": [
  {
   "cell_type": "markdown",
   "metadata": {
    "application/vnd.databricks.v1+cell": {
     "cellMetadata": {},
     "inputWidgets": {},
     "nuid": "23ca5b89-61de-4a52-8d1a-e1d185ced2d6",
     "showTitle": false,
     "title": ""
    }
   },
   "source": [
    "##Data Preparation for clinical dataset"
   ]
  },
  {
   "cell_type": "code",
   "execution_count": 0,
   "metadata": {
    "application/vnd.databricks.v1+cell": {
     "cellMetadata": {
      "byteLimit": 2048000,
      "rowLimit": 10000
     },
     "inputWidgets": {},
     "nuid": "910a7ec8-9c27-4a7b-a028-fa4d19872ea6",
     "showTitle": false,
     "title": ""
    }
   },
   "outputs": [],
   "source": [
    "#Assign variable name to each file name to make the code reuseable\n",
    " \n",
    "clinicaltrial = \"clinicaltrial_2021\"\n",
    "pharma = \"pharma\"\n",
    "completionyear = '2021'"
   ]
  },
  {
   "cell_type": "code",
   "execution_count": 0,
   "metadata": {
    "application/vnd.databricks.v1+cell": {
     "cellMetadata": {
      "byteLimit": 2048000,
      "rowLimit": 10000
     },
     "inputWidgets": {},
     "nuid": "2c4d1236-e76f-411e-9996-0c52a0cc810c",
     "showTitle": false,
     "title": ""
    }
   },
   "outputs": [
    {
     "output_type": "stream",
     "name": "stdout",
     "output_type": "stream",
     "text": [
      "Out[2]: [FileInfo(path='dbfs:/FileStore/tables/Occupancy_Detection_Data.csv', name='Occupancy_Detection_Data.csv', size=50968, modificationTime=1709129423000),\n FileInfo(path='dbfs:/FileStore/tables/account-models/', name='account-models/', size=0, modificationTime=0),\n FileInfo(path='dbfs:/FileStore/tables/accounts.zip', name='accounts.zip', size=5297592, modificationTime=1706712592000),\n FileInfo(path='dbfs:/FileStore/tables/activations/', name='activations/', size=0, modificationTime=0),\n FileInfo(path='dbfs:/FileStore/tables/activations.zip', name='activations.zip', size=8411369, modificationTime=1706709831000),\n FileInfo(path='dbfs:/FileStore/tables/clinicaltrial_2020.zip', name='clinicaltrial_2020.zip', size=10599182, modificationTime=1712104932000),\n FileInfo(path='dbfs:/FileStore/tables/clinicaltrial_2021.zip', name='clinicaltrial_2021.zip', size=11508457, modificationTime=1712104936000),\n FileInfo(path='dbfs:/FileStore/tables/clinicaltrial_2023-1.zip', name='clinicaltrial_2023-1.zip', size=57166668, modificationTime=1708651249000),\n FileInfo(path='dbfs:/FileStore/tables/clinicaltrial_2023.csv/', name='clinicaltrial_2023.csv/', size=0, modificationTime=0),\n FileInfo(path='dbfs:/FileStore/tables/clinicaltrial_2023.zip', name='clinicaltrial_2023.zip', size=57166668, modificationTime=1708645725000),\n FileInfo(path='dbfs:/FileStore/tables/flood.csv', name='flood.csv', size=128984, modificationTime=1707923850000),\n FileInfo(path='dbfs:/FileStore/tables/logs/', name='logs/', size=0, modificationTime=0),\n FileInfo(path='dbfs:/FileStore/tables/movies.csv', name='movies.csv', size=494431, modificationTime=1709736738000),\n FileInfo(path='dbfs:/FileStore/tables/myratings.csv', name='myratings.csv', size=10683, modificationTime=1709738203000),\n FileInfo(path='dbfs:/FileStore/tables/pharma-1.zip', name='pharma-1.zip', size=109982, modificationTime=1708650981000),\n FileInfo(path='dbfs:/FileStore/tables/pharma.csv/', name='pharma.csv/', size=0, modificationTime=0),\n FileInfo(path='dbfs:/FileStore/tables/pharma.zip', name='pharma.zip', size=109982, modificationTime=1708645414000),\n FileInfo(path='dbfs:/FileStore/tables/ratings.csv', name='ratings.csv', size=2483723, modificationTime=1709736738000),\n FileInfo(path='dbfs:/FileStore/tables/steam_200k-1.csv', name='steam_200k-1.csv', size=8059447, modificationTime=1709910917000),\n FileInfo(path='dbfs:/FileStore/tables/steam_200k-2.csv', name='steam_200k-2.csv', size=8059447, modificationTime=1711844675000),\n FileInfo(path='dbfs:/FileStore/tables/steam_200k.csv', name='steam_200k.csv', size=8059447, modificationTime=1709904991000),\n FileInfo(path='dbfs:/FileStore/tables/test.json', name='test.json', size=17958, modificationTime=1706104281000),\n FileInfo(path='dbfs:/FileStore/tables/webpage/', name='webpage/', size=0, modificationTime=0),\n FileInfo(path='dbfs:/FileStore/tables/webpage.zip', name='webpage.zip', size=1582, modificationTime=1707312020000),\n FileInfo(path='dbfs:/FileStore/tables/webpage_files_all/', name='webpage_files_all/', size=0, modificationTime=0),\n FileInfo(path='dbfs:/FileStore/tables/webpage_files_jpg/', name='webpage_files_jpg/', size=0, modificationTime=0)]"
     ]
    }
   ],
   "source": [
    "#Check that the file has successfully been imported to DBFS filestore\n",
    " \n",
    "dbutils.fs.ls(\"/FileStore/tables/\")"
   ]
  },
  {
   "cell_type": "code",
   "execution_count": 0,
   "metadata": {
    "application/vnd.databricks.v1+cell": {
     "cellMetadata": {
      "byteLimit": 2048000,
      "rowLimit": 10000
     },
     "inputWidgets": {},
     "nuid": "0f003be2-75a9-4a8e-b25a-9d471514a5d2",
     "showTitle": false,
     "title": ""
    }
   },
   "outputs": [],
   "source": [
    "#Copy the file zipped file from DBFS file store to the tmp folder\n",
    "dbutils.fs.cp(\"/FileStore/tables/\" + clinicaltrial + \".zip\", \"file:/tmp\", True)\n",
    " \n",
    "#Allow interaction with the os\n",
    "import os\n",
    "os.environ['clinicaltrial'] = clinicaltrial"
   ]
  },
  {
   "cell_type": "code",
   "execution_count": 0,
   "metadata": {
    "application/vnd.databricks.v1+cell": {
     "cellMetadata": {
      "byteLimit": 2048000,
      "rowLimit": 10000
     },
     "inputWidgets": {},
     "nuid": "034f0ba5-c352-46ff-93e4-f01acadaaceb",
     "showTitle": false,
     "title": ""
    }
   },
   "outputs": [
    {
     "output_type": "stream",
     "name": "stdout",
     "output_type": "stream",
     "text": [
      "Archive:  /tmp/clinicaltrial_2021.zip\n  inflating: /tmp/clinicaltrial_2021.csv  \n/bin/bash: line 1: Archive:: command not found\n/bin/bash: line 2: inflating:: command not found\n"
     ]
    }
   ],
   "source": [
    "%sh\n",
    "unzip -d/tmp /tmp/$clinicaltrial.zip\n",
    "Archive:  /tmp/clinicaltrial_2021.zip\n",
    "  inflating: /tmp/clinicaltrial_2021.csv  "
   ]
  },
  {
   "cell_type": "code",
   "execution_count": 0,
   "metadata": {
    "application/vnd.databricks.v1+cell": {
     "cellMetadata": {
      "byteLimit": 2048000,
      "rowLimit": 10000
     },
     "inputWidgets": {},
     "nuid": "dcdd05b6-f609-44e2-9c63-fe1fb11419e5",
     "showTitle": false,
     "title": ""
    }
   },
   "outputs": [
    {
     "output_type": "stream",
     "name": "stdout",
     "output_type": "stream",
     "text": [
      "Out[5]: ['Id|Sponsor|Status|Start|Completion|Type|Submission|Conditions|Interventions',\n 'NCT02758028|The University of Hong Kong|Recruiting|Aug 2005|Nov 2021|Interventional|Apr 2016||',\n 'NCT02751957|Duke University|Completed|Jul 2016|Jul 2020|Interventional|Apr 2016|Autistic Disorder,Autism Spectrum Disorder|',\n 'NCT02758483|Universidade Federal do Rio de Janeiro|Completed|Mar 2017|Jan 2018|Interventional|Apr 2016|Diabetes Mellitus|',\n 'NCT02759848|Istanbul Medeniyet University|Completed|Jan 2012|Dec 2014|Observational|May 2016|Tuberculosis,Lung Diseases,Pulmonary Disease|',\n 'NCT02758860|University of Roma La Sapienza|Active, not recruiting|Jun 2016|Sep 2020|Observational [Patient Registry]|Apr 2016|Diverticular Diseases,Diverticulum,Diverticulosis|',\n 'NCT02757209|Consorzio Futuro in Ricerca|Completed|Apr 2016|Jan 2018|Interventional|Apr 2016|Asthma|Fluticasone,Xhance,Budesonide,Formoterol Fumarate,Salmeterol Xinafoate',\n 'NCT02752438|Ankara University|Unknown status|May 2016|Jul 2017|Observational [Patient Registry]|Apr 2016|Hypoventilation|',\n 'NCT02753543|Ruijin Hospital|Unknown status|Nov 2015|Nov 2019|Interventional|Apr 2016|Lymphoma|',\n 'NCT02757508|Washington University School of Medicine|Completed|Mar 2016|Jul 2017|Interventional|Apr 2016||Vitamins']"
     ]
    }
   ],
   "source": [
    "#Move unzipped file to DBFS folder\n",
    "dbutils.fs.mv(\"file:/tmp/\" + clinicaltrial + \".csv\", \"/FileStore/tables/\" , True)\n",
    " \n",
    "#Read csv file from DBFS File store to RDD\n",
    "clinicaltrial_rdd = sc.textFile(\"/FileStore/tables/\" + clinicaltrial + \".csv\")\n",
    " \n",
    "#Preview the first 10 rows of the dataset\n",
    "clinicaltrial_rdd.take(10)"
   ]
  },
  {
   "cell_type": "code",
   "execution_count": 0,
   "metadata": {
    "application/vnd.databricks.v1+cell": {
     "cellMetadata": {
      "byteLimit": 2048000,
      "rowLimit": 10000
     },
     "inputWidgets": {},
     "nuid": "30a0d588-4647-420b-a26a-1e8c40bf0699",
     "showTitle": false,
     "title": ""
    }
   },
   "outputs": [],
   "source": [
    "#Assign variable name to file header\n",
    "clinicaltrial_rdd_header = clinicaltrial_rdd.first()\n",
    " \n",
    "#Filter out the file header using the assigned variable name\n",
    "clinicaltrial_rdd = clinicaltrial_rdd.filter(lambda x: x != clinicaltrial_rdd_header)\n",
    " \n",
    "#Split dataset by the delimeter \n",
    "clinicaltrial_rdd = clinicaltrial_rdd.map(lambda x: x.split(\"|\"))"
   ]
  },
  {
   "cell_type": "markdown",
   "metadata": {
    "application/vnd.databricks.v1+cell": {
     "cellMetadata": {},
     "inputWidgets": {},
     "nuid": "61a9d55a-bb41-4770-a83e-054a6c77859b",
     "showTitle": false,
     "title": ""
    }
   },
   "source": [
    "##Question 1 - Pyspark RDD"
   ]
  },
  {
   "cell_type": "code",
   "execution_count": 0,
   "metadata": {
    "application/vnd.databricks.v1+cell": {
     "cellMetadata": {
      "byteLimit": 2048000,
      "rowLimit": 10000
     },
     "inputWidgets": {},
     "nuid": "257811af-97af-4f51-8367-ff6b1c993006",
     "showTitle": false,
     "title": ""
    }
   },
   "outputs": [
    {
     "output_type": "stream",
     "name": "stdout",
     "output_type": "stream",
     "text": [
      "387261\n"
     ]
    }
   ],
   "source": [
    "#select distinct values from the first element of each tuple and count\n",
    " \n",
    "NumberOfDistinctStudies = clinicaltrial_rdd.map(lambda x: x[0]).distinct().count()\n",
    "print(NumberOfDistinctStudies)"
   ]
  },
  {
   "cell_type": "markdown",
   "metadata": {
    "application/vnd.databricks.v1+cell": {
     "cellMetadata": {},
     "inputWidgets": {},
     "nuid": "dae6c603-18ad-4c45-b993-237571a9ed14",
     "showTitle": false,
     "title": ""
    }
   },
   "source": [
    "##Question 2 - Pyspark RDD"
   ]
  },
  {
   "cell_type": "code",
   "execution_count": 0,
   "metadata": {
    "application/vnd.databricks.v1+cell": {
     "cellMetadata": {
      "byteLimit": 2048000,
      "rowLimit": 10000
     },
     "inputWidgets": {},
     "nuid": "6aa9f38a-808d-45e2-90f7-20f73eb75eeb",
     "showTitle": false,
     "title": ""
    }
   },
   "outputs": [
    {
     "output_type": "stream",
     "name": "stdout",
     "output_type": "stream",
     "text": [
      "Out[8]: [('Interventional', 301472),\n ('Observational', 77540),\n ('Observational [Patient Registry]', 8180),\n ('Expanded Access', 69)]"
     ]
    }
   ],
   "source": [
    "#Select the required column and assign a key value pair\n",
    "TypesOfStudies = clinicaltrial_rdd.map(lambda x: (x[5], 1))\n",
    " \n",
    "#Aggregate the values of each element in the selected column\n",
    "FrequencyOfStudyType = TypesOfStudies.reduceByKey(lambda a, b: a + b)\n",
    " \n",
    "#Sort by the aggregated values in descending order\n",
    "SortedFrequency = FrequencyOfStudyType.sortBy(lambda x: x[1], False)\n",
    " \n",
    "#Show the result\n",
    "SortedFrequency.collect()"
   ]
  },
  {
   "cell_type": "markdown",
   "metadata": {
    "application/vnd.databricks.v1+cell": {
     "cellMetadata": {},
     "inputWidgets": {},
     "nuid": "ee1ff875-cd1d-4b70-8f3c-5ec11b8b660a",
     "showTitle": false,
     "title": ""
    }
   },
   "source": [
    "##Question 3 - Pyspark RDD"
   ]
  },
  {
   "cell_type": "code",
   "execution_count": 0,
   "metadata": {
    "application/vnd.databricks.v1+cell": {
     "cellMetadata": {
      "byteLimit": 2048000,
      "rowLimit": 10000
     },
     "inputWidgets": {},
     "nuid": "3636ed67-6c1e-4ab5-a939-1037d7a8ac75",
     "showTitle": false,
     "title": ""
    }
   },
   "outputs": [
    {
     "output_type": "stream",
     "name": "stdout",
     "output_type": "stream",
     "text": [
      "Out[9]: [('Carcinoma', 13389),\n ('Diabetes Mellitus', 11080),\n ('Neoplasms', 9371),\n ('Breast Neoplasms', 8640),\n ('Syndrome', 8032)]"
     ]
    }
   ],
   "source": [
    "#Select the required column and filter out the null fields\n",
    "Conditions = clinicaltrial_rdd.map(lambda x: (x[7])).filter(lambda x: x != '')\n",
    " \n",
    "#Transform and split the RDD using the delimeter , \n",
    "Conditions1 = Conditions.flatMap(lambda x: x.split(','))\n",
    " \n",
    "#Assign a key value pair\n",
    "Conditions2 = Conditions1.map(lambda x: (x, 1))\n",
    " \n",
    "#Count the values and group by the selected column\n",
    "TheConditionsFrequency = Conditions2.reduceByKey(lambda a, b: a + b)\n",
    " \n",
    "#Sort the result in descending order\n",
    "SortedConditionsByFrequency = TheConditionsFrequency.sortBy(lambda x: x[1], False)\n",
    " \n",
    "#Show top five conditions sorted by the frequency\n",
    "SortedConditionsByFrequency.take(5)"
   ]
  },
  {
   "cell_type": "markdown",
   "metadata": {
    "application/vnd.databricks.v1+cell": {
     "cellMetadata": {},
     "inputWidgets": {},
     "nuid": "165153f1-b4c2-4ade-a34f-12bce8ccdf2a",
     "showTitle": false,
     "title": ""
    }
   },
   "source": [
    "##Data Preparation for pharma dataset"
   ]
  },
  {
   "cell_type": "code",
   "execution_count": 0,
   "metadata": {
    "application/vnd.databricks.v1+cell": {
     "cellMetadata": {
      "byteLimit": 2048000,
      "rowLimit": 10000
     },
     "inputWidgets": {},
     "nuid": "aff57271-31b7-4445-8a3e-48cd0e26f287",
     "showTitle": false,
     "title": ""
    }
   },
   "outputs": [],
   "source": [
    "#Copy the zipped pharma file from DBFS file store to tmp folder\n",
    "dbutils.fs.cp(\"/FileStore/tables/\" + pharma + \".zip\", \"file:/tmp\", True)\n",
    " \n",
    "#Allow interaction with the os\n",
    "import os\n",
    "os.environ['pharma'] = pharma"
   ]
  },
  {
   "cell_type": "code",
   "execution_count": 0,
   "metadata": {
    "application/vnd.databricks.v1+cell": {
     "cellMetadata": {
      "byteLimit": 2048000,
      "rowLimit": 10000
     },
     "inputWidgets": {},
     "nuid": "d754bad8-4d4e-4f22-bc70-9639b554fb12",
     "showTitle": false,
     "title": ""
    }
   },
   "outputs": [
    {
     "output_type": "stream",
     "name": "stdout",
     "output_type": "stream",
     "text": [
      "Out[14]: ['\"Company\",\"Parent_Company\",\"Penalty_Amount\",\"Subtraction_From_Penalty\",\"Penalty_Amount_Adjusted_For_Eliminating_Multiple_Counting\",\"Penalty_Year\",\"Penalty_Date\",\"Offense_Group\",\"Primary_Offense\",\"Secondary_Offense\",\"Description\",\"Level_of_Government\",\"Action_Type\",\"Agency\",\"Civil/Criminal\",\"Prosecution_Agreement\",\"Court\",\"Case_ID\",\"Private_Litigation_Case_Title\",\"Lawsuit_Resolution\",\"Facility_State\",\"City\",\"Address\",\"Zip\",\"NAICS_Code\",\"NAICS_Translation\",\"HQ_Country_of_Parent\",\"HQ_State_of_Parent\",\"Ownership_Structure\",\"Parent_Company_Stock_Ticker\",\"Major_Industry_of_Parent\",\"Specific_Industry_of_Parent\",\"Info_Source\",\"Notes\"',\n '\"Abbott Laboratories\",\"Abbott Laboratories\",\"$5,475,000\",\"$0\",\"$5,475,000\",\"2013\",\"20131227\",\"government-contracting-related offenses\",\"False Claims Act and related\",\"kickbacks and bribery\",\"Abbott Laboratories agreed to $5.475 million to resolve allegations that it violated the False Claims Act by paying kickbacks to induce doctors to implant the company\\'s carotid, biliary and peripheral vascular products.\",\"federal\",\"agency action\",\"Justice Department Civil Division\",\"civil\",\"\",\"\",\"\",\"\",\"\",\"\",\"\",\"\",\"\",\"\",\"\",\"USA\",\"Illinois\",\"publicly traded\",\"ABT\",\"pharmaceuticals\",\"pharmaceuticals\",\"https://www.justice.gov/opa/pr/abbott-laboratories-pays-us-5475-million-settle-claims-company-paid-kickbacks-physicians\",\"\"',\n '\"Abbott Laboratories Inc.\",\"AbbVie\",\"$1,500,000,000\",\"$0\",\"$1,500,000,000\",\"2012\",\"20120507\",\"healthcare-related offenses\",\"off-label or unapproved promotion of medical products\",\"\",\"Global Health Care Company Abbott Laboratories Inc. has pleaded guilty and agreed to pay $1.5 billion to resolve its criminal and civil liability arising from the company\\'s unlawful promotion of the prescription drug Depakote for uses not approved as safe and effective by the Food and Drug Administration. The resolution - the second largest payment by a drug company - includes a criminal fine and forfeiture totaling $700 million and civil settlements with the federal government and the states totaling $800 million. Abbott also will be subject to court-supervised probation and reporting obligations for Abbotts CEO and Board of Directors.\",\"federal\",\"agency action\",\"Food and Drug Administration referral to the Justice Department\",\"civil and criminal\",\"\",\"\",\"\",\"\",\"\",\"\",\"\",\"\",\"\",\"\",\"\",\"USA\",\"Illinois\",\"publicly traded\",\"ABBV\",\"pharmaceuticals\",\"pharmaceuticals\",\"http://www.justice.gov/opa/pr/abbott-labs-pay-15-billion-resolve-criminal-civil-investigations-label-promotion-depakote\",\"\"',\n '\"Abbott Laboratories Inc.\",\"AbbVie\",\"$126,500,000\",\"$0\",\"$126,500,000\",\"2010\",\"20101207\",\"government-contracting-related offenses\",\"False Claims Act and related\",\"\",\"Abbott Laboratories Inc., B. Braun Medical Inc. and Roxane Laboratories Inc. n/k/a Boehringer Ingelheim Roxane Inc. and affiliated entities agreed to pay $421 million to settle False Claims Act allegations, that they engaged in a scheme to report false and inflated prices for numerous pharmaceutical products knowing that federal healthcare programs relied on those reported prices to set payment rates.\",\"federal\",\"agency action\",\"Justice Department Civil Division\",\"civil\",\"\",\"\",\"\",\"\",\"\",\"\",\"\",\"\",\"\",\"\",\"\",\"USA\",\"Illinois\",\"publicly traded\",\"ABBV\",\"pharmaceuticals\",\"pharmaceuticals\",\"https://www.justice.gov/opa/pr/pharmaceutical-manufacturers-pay-4212-million-settle-false-claims-act-cases\",\"\"',\n '\"Abbott Laboratories Puerto Rico, Inc.\",\"Abbott Laboratories\",\"$49,045\",\"$0\",\"$49,045\",\"2009\",\"20090305\",\"employment-related offenses\",\"wage and hour violation\",\"Fair Labor Standards Act\",\"\",\"federal\",\"agency action\",\"Labor Department Wage and Hour Division\",\"civil\",\"\",\"\",\"1527129\",\"\",\"\",\"Puerto Rico\",\"San Juan\",\"\",\"\",\"423450\",\"423450: Medical, Dental, and Hospital Equipment and Supplies Merchant Wholesalers\",\"USA\",\"Illinois\",\"publicly traded\",\"ABT\",\"pharmaceuticals\",\"pharmaceuticals\",\"March 7, 2017 download of a dataset posted by the Wage and Hour Division at https://enforcedata.dol.gov/views/data_summary.php\",\"Date and year are the Findings End Date in the dataset posted by the Wage and Hour Division, which does not provide case opening or closing dates. The company name is the Legal Name provided by the dataset unless that field is blank, in which case the Trade Name is used. The dataset provides only one address and does not indicate whether it is the company headquarters address or the establishment address. The penalty amount is the total of civil monetary penalties and mandated back wages. The original dataset provides a breakdown.\"',\n '\"Acclarent Inc.\",\"Johnson & Johnson\",\"$18,000,000\",\"$0\",\"$18,000,000\",\"2016\",\"20160722\",\"government-contracting-related offenses\",\"False Claims Act and related\",\"\",\"California-based medical device manufacturer Acclarent Inc., a subsidiary of Johnson & Johnson, agreed to pay $18 million to resolve allegations that the company caused health care providers to submit false claims to Medicare and other federal health care programs by marketing and distributing its sinus spacer product for use as a drug delivery device without Food and Drug Administration approval.\",\"federal\",\"agency action\",\"Justice Department Civil Division\",\"civil\",\"\",\"\",\"\",\"\",\"\",\"\",\"\",\"\",\"\",\"\",\"\",\"USA\",\"New Jersey\",\"publicly traded\",\"JNJ\",\"pharmaceuticals\",\"pharmaceuticals\",\"https://www.justice.gov/opa/pr/johnson-johnson-subsidiary-acclarent-inc-pays-government-18-million-settle-false-claims-act\",\"\"',\n '\"Advanced Medical Optics\",\"Abbott Laboratories\",\"$16,800\",\"$0\",\"$16,800\",\"2004\",\"20040412\",\"employment-related offenses\",\"labor relations violation\",\"\",\"back pay award in unfair labor practices case\",\"federal\",\"agency action\",\"National Labor Relations Board\",\"civil\",\"\",\"\",\"21-CA-36104-001\",\"\",\"\",\"California\",\"Irvine\",\"\",\"92606\",\"333314\",\"333314: Optical Instrument and Lens Manufacturing\",\"USA\",\"Illinois\",\"publicly traded\",\"ABT\",\"pharmaceuticals\",\"pharmaceuticals\",\"Extracted from an NLRB dataset covering 1999-2011 downloaded at https://catalog.data.gov/dataset/nlrb-cats-final-c-case-data-bulk-19990101-20110930-in-xml\",\"\"',\n '\"Advanced Neuromodulation Systems, Inc.\",\"Abbott Laboratories\",\"$2,950,000\",\"$0\",\"$2,950,000\",\"2007\",\"20070702\",\"healthcare-related offenses\",\"HHS civil monetary penalties\",\"kickbacks and bribery\",\"The HHS Inspector General announced that Advanced Neuromodulation Systems, Inc.,  a medical device manufacturer specializing in spinal cord stimulation used for pain management, agreed to pay $2.95 million to settle allegations that it paid kickbacks to physicians in violation of the Civil Monetary Penalties Law (CMPL). The company also entered into a 3-year Corporate Integrity Agreement.\",\"federal\",\"agency action\",\"Health & Human Services Department Office of Inspector General\",\"civil\",\"\",\"\",\"\",\"\",\"\",\"\",\"\",\"\",\"\",\"\",\"\",\"USA\",\"Illinois\",\"publicly traded\",\"ABT\",\"pharmaceuticals\",\"pharmaceuticals\",\"https://oig.hhs.gov/publications/docs/press/2007/ANS%20Press%20Release.pdf\",\"\"',\n '\"Advanced Sterilization Products\",\"Johnson & Johnson\",\"$136,800\",\"$0\",\"$136,800\",\"2014\",\"20140520\",\"environment-related offenses\",\"environmental violation\",\"\",\"The U.S. Environmental Protection Agency announced that an Irvine, Calif. company, Advanced Sterilization Products, has agreed to pay a $136,800 penalty for the sale and distribution of unregistered and misbranded pesticides to veterinary clinics and laboratories nationwide.\",\"federal\",\"agency action\",\"Environmental Protection Agency\",\"civil\",\"\",\"\",\"\",\"\",\"\",\"California\",\"Irvine\",\"\",\"\",\"\",\"\",\"USA\",\"New Jersey\",\"publicly traded\",\"JNJ\",\"pharmaceuticals\",\"pharmaceuticals\",\"https://archive.epa.gov/epapages/newsroom_archive/newsreleases/8e820317c86e4c5685257cde00717855.html\",\"\"',\n '\"Advanced Sterilization Products, a division of Ethicon Inc.\",\"Johnson & Johnson\",\"$1,200,000\",\"$0\",\"$1,200,000\",\"2013\",\"20131204\",\"safety-related offenses\",\"drug or medical equipment safety violation\",\"\",\"Settlement of a civil money penalty action against Advanced Sterilization Products, a division of Ethicon Inc., a Johnson & Johnson company, and two of ASP\\'s executives alleging that ASP manufactured and distributed adulterated and misbranded sterilization monitoring products.\",\"federal\",\"agency action\",\"Food and Drug Administration\",\"civil\",\"\",\"\",\"\",\"\",\"\",\"California\",\"Irvine\",\"\",\"\",\"\",\"\",\"USA\",\"New Jersey\",\"publicly traded\",\"JNJ\",\"pharmaceuticals\",\"pharmaceuticals\",\"http://www.fda.gov/NewsEvents/Newsroom/PressAnnouncements/ucm377588.htm\",\"\"']"
     ]
    }
   ],
   "source": [
    " #Create RDD by reading the data from the pharma csv file to the RDD\n",
    "pharma_rdd = sc.textFile(\"/FileStore/tables/\" + pharma + \".csv\")\n",
    " \n",
    "#Preview the first 10 rows of the dataset\n",
    "pharma_rdd.take(10)"
   ]
  },
  {
   "cell_type": "code",
   "execution_count": 0,
   "metadata": {
    "application/vnd.databricks.v1+cell": {
     "cellMetadata": {
      "byteLimit": 2048000,
      "rowLimit": 10000
     },
     "inputWidgets": {},
     "nuid": "a9b906f9-177d-4106-8143-b8d9098a56b6",
     "showTitle": false,
     "title": ""
    }
   },
   "outputs": [],
   "source": [
    "#Assign header to variable name\n",
    "pharma_rdd_header = pharma_rdd.first()\n",
    " \n",
    "#Filter out header\n",
    "pharma_rdd = pharma_rdd.filter(lambda x: x != pharma_rdd_header)"
   ]
  },
  {
   "cell_type": "markdown",
   "metadata": {
    "application/vnd.databricks.v1+cell": {
     "cellMetadata": {},
     "inputWidgets": {},
     "nuid": "49ca82df-ede9-4530-b77f-6d7b45a02db3",
     "showTitle": false,
     "title": ""
    }
   },
   "source": [
    "##Question 4 - Pyspark RDD"
   ]
  },
  {
   "cell_type": "code",
   "execution_count": 0,
   "metadata": {
    "application/vnd.databricks.v1+cell": {
     "cellMetadata": {
      "byteLimit": 2048000,
      "rowLimit": 10000
     },
     "inputWidgets": {},
     "nuid": "9502cb8b-b940-4a8a-a45a-2f770613ccac",
     "showTitle": false,
     "title": ""
    }
   },
   "outputs": [
    {
     "output_type": "stream",
     "name": "stdout",
     "output_type": "stream",
     "text": [
      "Out[16]: [('National Cancer Institute (NCI)', 3218),\n ('M.D. Anderson Cancer Center', 2414),\n ('Assistance Publique - Hôpitaux de Paris', 2369),\n ('Mayo Clinic', 2300),\n ('Merck Sharp & Dohme Corp.', 2243),\n ('Assiut University', 2154),\n ('Novartis Pharmaceuticals', 2088),\n ('Massachusetts General Hospital', 1971),\n ('Cairo University', 1928),\n ('Hoffmann-La Roche', 1828)]"
     ]
    }
   ],
   "source": [
    "#Split pharma dataset using delimiter \",\" and assign second column to a new RDD\n",
    "Pharmaceuticals_rdd = pharma_rdd.map(lambda x: x.split('\",\"')[1])\n",
    " \n",
    "#Assign second column of the clinical trial dataset to a new RDD\n",
    "Sponsor_rdd = clinicaltrial_rdd.map(lambda x: x[1])\n",
    " \n",
    "#Assign key value pair and count by each sponsor\n",
    "Sponsor_rdd= Sponsor_rdd.map(lambda x: (x, 1)).reduceByKey(lambda a, b: a + b)\n",
    " \n",
    "#Retrieve Pharmaceuticals RDD into a list\n",
    "Pharmaceuticals = Pharmaceuticals_rdd.collect()\n",
    " \n",
    "#Filter out sponsors not in Pharmaceuticals and sort in descending order by the count\n",
    "sponsor_freq = Sponsor_rdd.filter(lambda x: x[0] not in Pharmaceuticals).sortBy(lambda x:x[1], False)\n",
    " \n",
    "#Show the top 10 records\n",
    "sponsor_freq.take(10)"
   ]
  },
  {
   "cell_type": "markdown",
   "metadata": {
    "application/vnd.databricks.v1+cell": {
     "cellMetadata": {},
     "inputWidgets": {},
     "nuid": "8b29213b-ff6e-45b6-803f-c7a50dcfb543",
     "showTitle": false,
     "title": ""
    }
   },
   "source": [
    "##Question 5 - Pyspark RDD"
   ]
  },
  {
   "cell_type": "code",
   "execution_count": 0,
   "metadata": {
    "application/vnd.databricks.v1+cell": {
     "cellMetadata": {
      "byteLimit": 2048000,
      "rowLimit": 10000
     },
     "inputWidgets": {},
     "nuid": "db90c3c0-8e59-4a6c-a773-168bb629955e",
     "showTitle": false,
     "title": ""
    }
   },
   "outputs": [],
   "source": [
    "#Select the necessary columns and filter by completed and required year\n",
    "completed_months = clinicaltrial_rdd.map(lambda x: (x[0], x[2], x[4])).filter(lambda x: x[1] == 'Completed' and x[2][-4:] == completionyear)# and x[2] != '')\n",
    " \n",
    "#Select only the months from the filtered RDD and assign to a new RDD\n",
    "completed_months = completed_months.map(lambda x: x[2][:3])"
   ]
  },
  {
   "cell_type": "code",
   "execution_count": 0,
   "metadata": {
    "application/vnd.databricks.v1+cell": {
     "cellMetadata": {
      "byteLimit": 2048000,
      "rowLimit": 10000
     },
     "inputWidgets": {},
     "nuid": "35001dfd-1bbe-400b-8a41-877706c36f51",
     "showTitle": false,
     "title": ""
    }
   },
   "outputs": [
    {
     "output_type": "stream",
     "name": "stdout",
     "output_type": "stream",
     "text": [
      "Out[18]: [('Jan', 1131),\n ('Feb', 934),\n ('Mar', 1227),\n ('Apr', 967),\n ('May', 984),\n ('Jun', 1094),\n ('Jul', 819),\n ('Aug', 700),\n ('Sep', 528),\n ('Oct', 187)]"
     ]
    }
   ],
   "source": [
    "#Create a key value pair of the completed_months\n",
    "completed_months2 = completed_months.map(lambda x: (x, 1))\n",
    " \n",
    "#Aggregate the values of each element in the selected column\n",
    "completed_months3=completed_months2.reduceByKey(lambda a, b: a + b)\n",
    " \n",
    "# define a dictionary for months\n",
    "MonthsDictionary = {'Jan': 1, 'Feb': 2, 'Mar': 3, 'Apr': 4, 'May': 5, 'Jun': 6,\n",
    "              'Jul': 7, 'Aug': 8, 'Sep': 9, 'Oct': 10, 'Nov': 11, 'Dec': 12}\n",
    " \n",
    "#Sort the result by the month\n",
    "CompletedTrialsPerMonth = completed_months3.sortBy(lambda x: MonthsDictionary[x[0][:3]])\n",
    " \n",
    "#Show result\n",
    "CompletedTrialsPerMonth.collect()"
   ]
  }
 ],
 "metadata": {
  "application/vnd.databricks.v1+notebook": {
   "dashboards": [],
   "language": "python",
   "notebookMetadata": {
    "mostRecentlyExecutedCommandWithImplicitDF": {
     "commandId": 2115665754244345,
     "dataframes": [
      "_sqldf"
     ]
    },
    "pythonIndentUnit": 4
   },
   "notebookName": "RDD 2021 IMPLEMENTATION",
   "widgets": {}
  }
 },
 "nbformat": 4,
 "nbformat_minor": 0
}
